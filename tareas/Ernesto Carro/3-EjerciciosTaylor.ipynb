{
 "cells": [
  {
   "cell_type": "markdown",
   "metadata": {},
   "source": [
    "En los ejercicios desarrollados en este trabajo es necesario utilizar la libería de Pyplot, por tanto la llamaremos:"
   ]
  },
  {
   "cell_type": "code",
   "execution_count": 4,
   "metadata": {
    "collapsed": false
   },
   "outputs": [],
   "source": [
    "using PyPlot"
   ]
  },
  {
   "cell_type": "markdown",
   "metadata": {},
   "source": [
    "## Ejercicio 1: Relaciones de recurrencia\n",
    "\n",
    "Así como se hizo en clase para la exponencial, el logaritmo, y las potencias; obtén las series de recurrencia para las siguientes funciones:\n",
    "\n",
    "* Seno.\n",
    "* Coseno.\n",
    "* Tangente.\n",
    "* Cotangente.\n",
    "\n",
    "¿Hay algún problema al intentar calcular la cotangente? Si la respuesta es sí ¿cuál?, si la respuesta es no ¿por qué?"
   ]
  },
  {
   "cell_type": "markdown",
   "metadata": {},
   "source": [
    "### Respuesta:\n",
    "\n",
    "Empecemos:\n",
    "\n",
    "#### Coseno y Seno:\n",
    "\n",
    "Consideremos las series de recurrencia de las siguientes funciones:\n",
    "\n",
    "$$g(x)=\\sum_{k=0}^{\\infty}g_{k}(x-x_{0})^{k}\\cdot\\cdot\\cdot\\cdot\\cdot\\cdot\\cdot\\cdot\\cdot\\cdot\\cdot(1)$$\n",
    "\n",
    "$$\\sin(g(x))=\\sum_{k=0}^{\\infty}(\\sin g)_{k}(x-x_{0})^{k}\\cdot\\cdot\\cdot\\cdot\\cdot\\cdot\\cdot\\cdot\\cdot\\cdot\\cdot(2)$$\n",
    "\n",
    "$$\\cos(g(x))=\\sum_{k=0}^{\\infty}(\\cos g)_{k}(x-x_{0})^{k}\\cdot\\cdot\\cdot\\cdot\\cdot\\cdot\\cdot\\cdot\\cdot\\cdot\\cdot(3)$$\n",
    "\n",
    "Ahora bien, conocemos las siguientes ecuaciones diferenciales:\n",
    "\n",
    "$$\\frac{d}{dx}\\cos(g(x))=-g'(x)\\sin(g(x))\\cdot\\cdot\\cdot\\cdot\\cdot\\cdot\\cdot\\cdot\\cdot\\cdot\\cdot(4)$$\n",
    "\n",
    "$$\\frac{d}{dx}\\sin(g(x))=g'(x)\\cos(g(x))\\cdot\\cdot\\cdot\\cdot\\cdot\\cdot\\cdot\\cdot\\cdot\\cdot\\cdot(5)$$\n",
    "\n",
    "De la ecuaciones (1), (2) y (3) se puede escribir:\n",
    "\n",
    "$$g'(x)=\\sum_{k=1}^{\\infty}kg_{k}(x-x_{0})^{k-1}\\cdot\\cdot\\cdot\\cdot\\cdot\\cdot\\cdot\\cdot\\cdot\\cdot\\cdot(6)$$\n",
    "\n",
    "$$\\frac{d}{dx}\\sin(g(x))=\\sum_{k=1}^{\\infty}k(\\sin g)_{k}(x-x_{0})^{k-1}\\cdot\\cdot\\cdot\\cdot\\cdot\\cdot\\cdot\\cdot\\cdot\\cdot\\cdot(7)$$\n",
    "\n",
    "$$\\frac{d}{dx}\\cos(g(x))=\\sum_{k=1}^{\\infty}k(\\cos g)_{k}(x-x_{0})^{k-1}\\cdot\\cdot\\cdot\\cdot\\cdot\\cdot\\cdot\\cdot\\cdot\\cdot\\cdot(8)$$\n",
    "\n",
    "De tal forma, si se sustituyen las ecuaciones (1) a (3) y (6) a (8) en las ecuaciones (4) y (5), respectivamente, se obtiene:\n",
    "\n",
    "$$\\sum_{k=1}^{\\infty}k(\\cos g)_{k}(x-x_{0})^{k-1}=-\\left(\\sum_{k=1}^{\\infty}kg_{k}(x-x_{0})^{k-1}\\right)\\left( \\sum_{k=0}^{\\infty}(\\sin g)_{k}(x-x_{0})^{k}\\right)$$\n",
    "\n",
    "$$\\sum_{k=1}^{\\infty}k(\\sin g)_{k}(x-x_{0})^{k-1}=\\left(\\sum_{k=1}^{\\infty}kg_{k}(x-x_{0})^{k-1}\\right)\\left( \\sum_{k=0}^{\\infty}(\\cos g)_{k}(x-x_{0})^{k}\\right)$$\n",
    "\n",
    "Multiplicando por $(x-x_{0})$ se encuentra:\n",
    "\n",
    "$$\\sum_{k=1}^{\\infty}k(\\cos g)_{k}(x-x_{0})^{k}=-\\left(\\sum_{k=1}^{\\infty}kg_{k}(x-x_{0})^{k}\\right)\\left( \\sum_{k=0}^{\\infty}(\\sin g)_{k}(x-x_{0})^{k}\\right)\\cdot\\cdot\\cdot\\cdot\\cdot\\cdot\\cdot\\cdot\\cdot\\cdot\\cdot(9)$$\n",
    "\n",
    "$$\\sum_{k=1}^{\\infty}k(\\sin g)_{k}(x-x_{0})^{k}=\\left(\\sum_{k=1}^{\\infty}kg_{k}(x-x_{0})^{k}\\right)\\left( \\sum_{k=0}^{\\infty}(\\cos g)_{k}(x-x_{0})^{k}\\right)\\cdot\\cdot\\cdot\\cdot\\cdot\\cdot\\cdot\\cdot\\cdot\\cdot\\cdot(10)$$\n",
    "\n",
    "Usando la regla del producto para series de recurrencia, la cual ya fue estudiada en clase, se sigue:\n",
    "\n",
    "$$k(\\cos g)_{k}=-\\sum_{i=1}^{k}ig_{i}(\\sin g)_{k-i}$$\n",
    "\n",
    "$$k(\\sin g)_{k}=\\sum_{i=1}^{k}ig_{i}(\\cos g)_{k-i}$$\n",
    "\n",
    "Lo anterior para $k>0$, mientras el término $k=0$ está dado por $\\cos(g_{0})$ y $\\sin(g_{0})$ para cada serie de recurrencia, respectivamente. Por tanto, se puede escribir:\n",
    "\n",
    "$$(\\cos g)_{k} =\n",
    "\\left\\{\n",
    "\t\\begin{array}{ll}\n",
    "        \\cos(g_{0}) & \\mbox{si } k = 0 \\\\\n",
    "\t\t-\\frac{1}{k}\\sum_{i=1}^{k}ig_{i}(\\sin g)_{k-i}  & \\mbox{si } k > 0\n",
    "\t\\end{array}\n",
    "\\right.$$\n",
    "\n",
    "$$(\\sin g)_{k} =\n",
    "\\left\\{\n",
    "\t\\begin{array}{ll}\n",
    "        \\sin(g_{0}) & \\mbox{si } k = 0 \\\\\n",
    "\t\t\\frac{1}{k}\\sum_{i=1}^{k}ig_{i}(\\cos g)_{k-i}  & \\mbox{si } k > 0\n",
    "\t\\end{array}\n",
    "\\right.$$\n"
   ]
  },
  {
   "cell_type": "markdown",
   "metadata": {},
   "source": [
    "#### Tangente y Cotagente:\n",
    "\n",
    "Ahora se continuará con las series de recurrencia faltantes. Para este caso es necesario conocer las series siguientes:\n",
    "\n",
    "$$\\tan(g(x))=\\sum_{k=0}^{\\infty}(\\tan g)_{k}(x-x_{0})^{k}\\cdot\\cdot\\cdot\\cdot\\cdot\\cdot\\cdot\\cdot\\cdot\\cdot\\cdot(11)$$\n",
    "\n",
    "$$\\cot(g(x))=\\sum_{k=0}^{\\infty}(\\cot g)_{k}(x-x_{0})^{k}\\cdot\\cdot\\cdot\\cdot\\cdot\\cdot\\cdot\\cdot\\cdot\\cdot\\cdot(12)$$\n",
    "\n",
    "Además, se conocen las siguientes ecuaciones diferenciales:\n",
    "\n",
    "$$\\frac{d}{dx}\\tan(g(x))=g'(x)\\frac{1}{\\cos^{2}(g(x))}\\cdot\\cdot\\cdot\\cdot\\cdot\\cdot\\cdot\\cdot\\cdot\\cdot\\cdot(13)$$\n",
    "\n",
    "$$\\frac{d}{dx}\\cot(g(x))=-g'(x)\\frac{1}{\\sin^{2}(g(x))}\\cdot\\cdot\\cdot\\cdot\\cdot\\cdot\\cdot\\cdot\\cdot\\cdot\\cdot(14)$$\n",
    "\n",
    "En las ecuaciones diferenciales anteriores se obtienen las funciones coseno y seno al cuadrado, si se intentara sustituir simplemente el coseno y seno con las series presentadas en (2) y (3) se encontrarían problemas al buscar emplear la regla del producto, tal como se ha hecho en los ejercicios anteriores y los realizados en la clase. \n",
    "\n",
    "Lo anterior se debe a que no se cuenta con la regla del producto para más de tres funciones; el lector podría decir que se puede deducir, pero resulta más fácil darle la vuelta a este inconveniente considerando las series de tales funciones al cuadrado, es decir:\n",
    "\n",
    "$$\\sin^{2}(g(x))=\\sum_{k=0}^{\\infty}(\\sin^{2} g)_{k}(x-x_{0})^{k}\\cdot\\cdot\\cdot\\cdot\\cdot\\cdot\\cdot\\cdot\\cdot\\cdot\\cdot(15)$$\n",
    "\n",
    "$$\\cos^{2}(g(x))=\\sum_{k=0}^{\\infty}(\\cos^{2} g)_{k}(x-x_{0})^{k}\\cdot\\cdot\\cdot\\cdot\\cdot\\cdot\\cdot\\cdot\\cdot\\cdot\\cdot(16)$$\n",
    "\n",
    "De tal forma, sustituyendo (1), (15) y (16) en (13) y (14) se obtiene:\n",
    "\n",
    "$$\\sum_{k=1}^{\\infty}k(\\tan g)_{k}(x-x_{0})^{k-1}=\\left(\\sum_{k=1}^{\\infty}kg_{k}(x-x_{0})^{k-1}\\right)/\\left( \\sum_{k=0}^{\\infty}(\\cos^{2} g)_{k}(x-x_{0})^{k}\\right)$$\n",
    "\n",
    "$$\\sum_{k=1}^{\\infty}k(\\cot g)_{k}(x-x_{0})^{k-1}=\\left(\\sum_{k=1}^{\\infty}kg_{k}(x-x_{0})^{k-1}\\right)/\\left( \\sum_{k=0}^{\\infty}(\\sin^{2} g)_{k}(x-x_{0})^{k}\\right)$$\n",
    "\n",
    "Lo cual se puede reescribir como:\n",
    "\n",
    "$$\\left(\\sum_{k=1}^{\\infty}k(\\tan g)_{k}(x-x_{0})^{k-1}\\right)\\left( \\sum_{k=0}^{\\infty}(\\cos^{2} g)_{k}(x-x_{0})^{k}\\right)=\\sum_{k=1}^{\\infty}kg_{k}(x-x_{0})^{k-1}$$\n",
    "\n",
    "$$\\left(\\sum_{k=1}^{\\infty}k(\\cot g)_{k}(x-x_{0})^{k-1}\\right)\\left( \\sum_{k=0}^{\\infty}(\\sin^{2} g)_{k}(x-x_{0})^{k}\\right)=\\sum_{k=1}^{\\infty}kg_{k}(x-x_{0})^{k-1}$$\n",
    "\n",
    "Multiplicando por $(x-x_{0})$ ambas expresiones se sigue:\n",
    "\n",
    "$$\\left(\\sum_{k=1}^{\\infty}k(\\tan g)_{k}(x-x_{0})^{k}\\right)\\left( \\sum_{k=0}^{\\infty}(\\cos^{2} g)_{k}(x-x_{0})^{k}\\right)=\\sum_{k=1}^{\\infty}kg_{k}(x-x_{0})^{k}$$\n",
    "\n",
    "$$\\left(\\sum_{k=1}^{\\infty}k(\\cot g)_{k}(x-x_{0})^{k}\\right)\\left( \\sum_{k=0}^{\\infty}(\\sin^{2} g)_{k}(x-x_{0})^{k}\\right)=\\sum_{k=1}^{\\infty}kg_{k}(x-x_{0})^{k}$$\n",
    "\n",
    "Ya con esta forma es posible aplicar la regla del producto para series, entonces:\n",
    "\n",
    "$$kg_{k}=\\sum_{i=1}^{k}i(\\tan g)_{i}(\\cos^{2} g)_{k-i}$$\n",
    "\n",
    "$$kg_{k}=-\\sum_{i=1}^{k}i(\\cot g)_{i}(\\sin^{2} g)_{k-i}$$\n",
    "\n",
    "Donde el término $k=0$ está dado por $\\tan (g_{0})$ y $\\cot (g_{0})$ para cada serie de recurrencia requerida. Ahora, de las ecuaciones obtenidas anteriormente se puede puede desarrollar la suma para encontrar:\n",
    "\n",
    "$$kg_{k}=k(\\tan g)_{k}\\cos^{2} (g_{0})+\\sum_{i=1}^{k-1}i(\\tan g)_{i}(\\cos^{2} g)_{k-i}$$\n",
    "\n",
    "$$kg_{k}=k(\\cot g)_{k}\\sin^{2} (g_{0})-\\sum_{i=1}^{k}i(\\cot g)_{i}(\\sin^{2} g)_{k-i}$$\n",
    "\n",
    "Por tanto, despejando para $(\\tan g)_{k}$ y $(\\cot g)_{k}$, además de recordar las observaciones para $k=0$, se concluye:\n",
    "\n",
    "$$(\\tan g)_{k} =\n",
    "\\left\\{\n",
    "\t\\begin{array}{ll}\n",
    "        \\tan(g_{0}) & \\mbox{si } k = 0 \\\\\n",
    "\t\t\\frac{1}{\\cos^{2}(g_{0})}\\left(g_{k}-\\frac{1}{k}\\sum_{i=1}^{k-1}i(\\tan g)_{i}(\\cos^{2} g)_{k-i}\\right)  & \\mbox{si } k > 0\n",
    "\t\\end{array}\n",
    "\\right.$$\n",
    "\n",
    "$$(\\cot g)_{k} =\n",
    "\\left\\{\n",
    "\t\\begin{array}{ll}\n",
    "        \\cot(g_{0}) & \\mbox{si } k = 0 \\\\\n",
    "\t\t\\frac{1}{\\sin^{2}(g_{0})}\\left(g_{k}+\\frac{1}{k}\\sum_{i=1}^{k-1}i(\\cot g)_{i}(\\sin^{2} g)_{k-i}\\right)  & \\mbox{si } k > 0\n",
    "\t\\end{array}\n",
    "\\right.$$\n",
    "\n",
    "Respondiendo a la pregunta sobre si existen problemas al calcular las series de la tangente y cotangente, la respuesta es sí. Como ya se mencionó anteriormente si se sustituyeran las series de recurrencia del coseno y seno en las expresiones (13) y (14), nos encontrariamos atorados pues no conocemos una regla del producto para tres funciones.\n",
    "\n",
    "Entonces, existen dos soluciones: 1) Encontrar una relación para el producto de tres funciones, o 2) Usar las series de recurrencia del coseno y seno al cuadrado, como se realizó en este trabajo. \n",
    "\n",
    "Aún queda un aspecto a discutir, al emplear las ecuaciones diferenciales (13) y (14) podemos ver que éstas no están bien definidas en puntos donde $\\cos (g)\\rightarrow 0$ y $\\sin (g)\\rightarrow 0$ y, de hecho, lo que se realizó anteriormente no tiene sentido si estamos en puntos donde se cumpla lo antes dicho, pues no existe forma de calcular una serie de Taylor de una función en un punto donde diverge.\n",
    "\n",
    "Por tanto, lo realizado anteriormente sólo tiene sentido si la serie de recurrencia se está calculado para puntos donde la tangente y cotangente no divergan, de lo contrario las divisiones en las ecuaciones diferenciales (13) y (14) no tienen sentido.\n",
    "\n",
    "En conclusión, si existen inconvenientes al calcular las series de recurrencia de la tangente y cotangente, pero éstos son sorteables."
   ]
  },
  {
   "cell_type": "markdown",
   "metadata": {},
   "source": [
    "## Ejercicio 2: Integración con Runge–Kutta\n",
    "\n",
    "Utilizando el método de [Runge–Kutta de cuarto orden](http://www.ctcms.nist.gov/~langer/oof2man/RegisteredClass-RK4.html) haz lo siguiente:\n",
    "\n",
    "* Integra la siguiente ecuación diferencial,\n",
    "\n",
    "$$ \\dot{x} = x^2, \\qquad x(0) = 1.$$ \n",
    "\n",
    "* Compara tu solución contra la solución analítica en una gráfica.\n",
    "* Muestra cómo se comporta el error."
   ]
  },
  {
   "cell_type": "markdown",
   "metadata": {},
   "source": [
    "### Respuesta:"
   ]
  },
  {
   "cell_type": "markdown",
   "metadata": {},
   "source": [
    "Iniciaremos por definir una función que desarrollará el método de Runge-Kutta de orden cuatro. El sistema a resolver será de la forma:\n",
    "\n",
    "$$\\dot{x}(t)=f(t,x)$$\n",
    "\n",
    "con condición inicial:\n",
    "\n",
    "$$x(a)=\\alpha$$\n",
    "\n",
    "y se resolverá en un intervalo [a,b].Por tanto, en base a la referencia presentada en el enunciado del ejercicio, definimos la función de Runge-Kutta de orden 4:"
   ]
  },
  {
   "cell_type": "code",
   "execution_count": 5,
   "metadata": {
    "collapsed": false
   },
   "outputs": [
    {
     "data": {
      "text/plain": [
       "RK4 (generic function with 1 method)"
      ]
     },
     "execution_count": 5,
     "metadata": {},
     "output_type": "execute_result"
    }
   ],
   "source": [
    "function RK4(f,α,a,b,N_int)# El RK4 pedirá la función a integrar, α será el valor de la función en el punto inicial,\n",
    "    # es decir, x(a)=α; b será el punto final donde evaluar y N_int el número de intervalos entre a y b.\n",
    "    h=big((b-a)/N_int)# Definimos el espaciamiento entre intervalos\n",
    "    t=big(a)# El punto inicial se hace de la mejor precisión posible\n",
    "    w=big(α)# Al igual que el valor de f(a)\n",
    "    int=zeros(N_int)# Creamos arreglos de ceros donde se almacenarán los resultados de t y de f(x,t)\n",
    "    res=zeros(N_int)\n",
    "    for i=1:N_int# La iteración se hará desde a hasta b\n",
    "        K1=h*f(t,w)# Método de Runge-Kutta de orden 4\n",
    "        K2=h*f(t+h/2,w+K1/2)\n",
    "        K3=h*f(t+h/2,w+K2/2)\n",
    "        K4=h*f(t+h,w+K3)\n",
    "        int[i]=t# Los puntos del intervalo se guardan en int\n",
    "        res[i]=w# Los resultados de x(t) se guardan en res\n",
    "        w=w+((K1+2.0*K2+2.0*K3+K4)/6.0)# Creamos los nuevos resultados\n",
    "        t=t+h# Nuevo intervalo\n",
    "    end\n",
    "    (int,res)# Devolvemos los resultados\n",
    "end"
   ]
  },
  {
   "cell_type": "markdown",
   "metadata": {},
   "source": [
    "Con la función anterior estamos en condiciones de definir la función a emplear, la cual estará dada por:"
   ]
  },
  {
   "cell_type": "code",
   "execution_count": 6,
   "metadata": {
    "collapsed": false
   },
   "outputs": [
    {
     "data": {
      "text/plain": [
       "f (generic function with 1 method)"
      ]
     },
     "execution_count": 6,
     "metadata": {},
     "output_type": "execute_result"
    }
   ],
   "source": [
    "f(t,x)=x^2"
   ]
  },
  {
   "cell_type": "markdown",
   "metadata": {},
   "source": [
    "Integremos esta ecuación diferencial usando la función creada, se tendrá:"
   ]
  },
  {
   "cell_type": "code",
   "execution_count": 7,
   "metadata": {
    "collapsed": false
   },
   "outputs": [],
   "source": [
    "(Inter,X_RK4)=RK4(f,1.,0.,1.0,200) # El intervalo de t será [0,1], y la condición inicial es x(0)=1;"
   ]
  },
  {
   "cell_type": "markdown",
   "metadata": {},
   "source": [
    "La solución real de la ecuación diferencial planteada en este ejercicio es:\n",
    "\n",
    "$$x(t)=\\frac{1}{1-t}$$\n",
    "\n",
    "y es fácil comprobar que:\n",
    "\n",
    "$$\\dot{x}(t)=\\frac{1}{(1-t)^{2}}=x^{2}$$\n",
    "\n",
    "Definimos la función real:"
   ]
  },
  {
   "cell_type": "code",
   "execution_count": 8,
   "metadata": {
    "collapsed": false
   },
   "outputs": [
    {
     "data": {
      "text/plain": [
       "x_real (generic function with 1 method)"
      ]
     },
     "execution_count": 8,
     "metadata": {},
     "output_type": "execute_result"
    }
   ],
   "source": [
    "x_real(t)=1.0/(1.0-t)"
   ]
  },
  {
   "cell_type": "markdown",
   "metadata": {},
   "source": [
    "Produzcamos la soluciones de esta función:"
   ]
  },
  {
   "cell_type": "code",
   "execution_count": 9,
   "metadata": {
    "collapsed": false
   },
   "outputs": [],
   "source": [
    "X_real=[x_real(t) for t in Inter];"
   ]
  },
  {
   "cell_type": "markdown",
   "metadata": {},
   "source": [
    "Ahora comparemos las funciones mediante una gráfica, tendremos:"
   ]
  },
  {
   "cell_type": "code",
   "execution_count": 10,
   "metadata": {
    "collapsed": false,
    "scrolled": false
   },
   "outputs": [
    {
     "data": {
      "image/png": "[encoded data removed]",
      "text/plain": [
       "PyPlot.Figure(PyObject <matplotlib.figure.Figure object at 0x89f1b7cc>)"
      ]
     },
     "metadata": {},
     "output_type": "display_data"
    }
   ],
   "source": [
    "plot(Inter, X_RK4, label=\"RK4\")\n",
    "plot(Inter,X_real, label=\"Solución analítica\")\n",
    "legend(loc=2)\n",
    "xlabel(L\"t\")\n",
    "ylabel(\"Funciones\")\n",
    "show()"
   ]
  },
  {
   "cell_type": "markdown",
   "metadata": {},
   "source": [
    "De lo anterior, podemos ver que la diferencia entre una y otra función no es muy grande; sin embargo, la falta de resolución en la imagen nos puede hacer perder informacion, por tanto es necesario construir el error, ésto es:"
   ]
  },
  {
   "cell_type": "code",
   "execution_count": 11,
   "metadata": {
    "collapsed": false
   },
   "outputs": [],
   "source": [
    "eps=X_real-X_RK4;"
   ]
  },
  {
   "cell_type": "markdown",
   "metadata": {},
   "source": [
    "Ahora graficaremos el resultado de la diferencia:"
   ]
  },
  {
   "cell_type": "code",
   "execution_count": 12,
   "metadata": {
    "collapsed": false,
    "scrolled": false
   },
   "outputs": [
    {
     "data": {
      "image/png": "[encoded data removed]",
      "text/plain": [
       "PyPlot.Figure(PyObject <matplotlib.figure.Figure object at 0x88b2b16c>)"
      ]
     },
     "metadata": {},
     "output_type": "display_data"
    },
    {
     "data": {
      "text/plain": [
       "PyObject <matplotlib.text.Text object at 0x88a26b2c>"
      ]
     },
     "execution_count": 12,
     "metadata": {},
     "output_type": "execute_result"
    }
   ],
   "source": [
    "plot(Inter,eps)\n",
    "xlabel(L\"t\")\n",
    "ylabel(\"Error\")"
   ]
  },
  {
   "cell_type": "markdown",
   "metadata": {},
   "source": [
    "Sorprendentemente, el método de Runge-Kutta de orden 4 nos da una buena aproximación al resultado real de la función; sin embargo, conforme la función x(t) diverge, el error crece. Entonces, se puede decir que en tal límite el método de Runge-Kutta de orden 4 perderá precisión.\n",
    "\n",
    "Ahora bien, veamos que sucede al aplicar el método de Runge-Kutta de orden 4 a un rango mayor de $t$, es decir pasando 1.0 donde la función diverge, veamos que hace:"
   ]
  },
  {
   "cell_type": "code",
   "execution_count": 41,
   "metadata": {
    "collapsed": true
   },
   "outputs": [],
   "source": [
    "(Inter1,X_RK41)=RK4(f,1.,0.,1.25,300) # El intervalo de t será [0,1], y la condición inicial es x(0)=1;"
   ]
  },
  {
   "cell_type": "markdown",
   "metadata": {},
   "source": [
    "Grafiquemos para ver que obtenemos:"
   ]
  },
  {
   "cell_type": "code",
   "execution_count": 42,
   "metadata": {
    "collapsed": false,
    "scrolled": false
   },
   "outputs": [
    {
     "data": {
      "image/png": "[encoded data removed]",
      "text/plain": [
       "PyPlot.Figure(PyObject <matplotlib.figure.Figure object at 0x88ec710c>)"
      ]
     },
     "metadata": {},
     "output_type": "display_data"
    }
   ],
   "source": [
    "plot(Inter1, X_RK41, label=\"RK4\")\n",
    "legend(loc=2)\n",
    "xlabel(L\"t\")\n",
    "ylabel(\"RK4\")\n",
    "show()"
   ]
  },
  {
   "cell_type": "markdown",
   "metadata": {},
   "source": [
    "Podemos ver que el método de Runge-Kutta de orden 4 no hace lo que esperariamos, en el punto de divergencia el método de Runge-Kutta no grafica nada. En el siguiente ejercicio veremos si el método de integración de Taylor logra romper con ésto."
   ]
  },
  {
   "cell_type": "markdown",
   "metadata": {},
   "source": [
    "##  Ejercicio 3: Integración con Taylor \n",
    "\n",
    "Repite los tres puntos del ejercicio anterior utilizando el método de integración de Taylor."
   ]
  },
  {
   "cell_type": "markdown",
   "metadata": {},
   "source": [
    "### Respuesta:\n",
    "\n",
    "Lo primero será definir un tipo llamado `Taylor`, con el cual será posible construir las series de Taylor. A continuación se define tal tipo:"
   ]
  },
  {
   "cell_type": "code",
   "execution_count": 13,
   "metadata": {
    "collapsed": false,
    "scrolled": false
   },
   "outputs": [
    {
     "data": {
      "text/plain": [
       "Taylor{T<:Number}"
      ]
     },
     "execution_count": 13,
     "metadata": {},
     "output_type": "execute_result"
    }
   ],
   "source": [
    "type Taylor{T<:Number} <: Number# Definimos el tipo taylor\n",
    "    coef :: Array{T,1}# El tipo deberá de contener dos partes: un arreglo con los coeficientes de la serie\n",
    "    N :: Int# y un número entero que nos indicará el orden de la expansión.\n",
    "\n",
    "    function Taylor(coef::Array{T,1}, N::Int)# Adicionalmente necesitamos una función dentro del tipo que\n",
    "        # identifique correctamente lo que se está introduciendo.\n",
    "        longcoef = length(coef)# Veamos que longtud tiene el arreglo de coeficientes\n",
    "        N = max(N, longcoef-1)# Nos quedamos con el máximo de las entradas, no queremos confusiones tontas\n",
    "        N == longcoef-1 && return new(coef, N)# Corregimos si es que las entradas no coinciden\n",
    "        resize!(coef, N+1)# Ajustamos el tamaño del arreglo de coeficientes de la serie\n",
    "        for i = longcoef+1:N+1# Si N>longcoef-1, entonces necesitamos que agregar ceros para tener la serie deseada\n",
    "            # por el usuario\n",
    "            coef[i] = zero(T)\n",
    "        end\n",
    "        new(coef, N)# Devolverá el arreglo ya corregido\n",
    "    end\n",
    "end\n",
    "\n",
    "# Ahora bien nos vemos en la necesidad de definir métodos para que las entradas tengan sentido\n",
    "\n",
    "Taylor{T<:Number}(x::Taylor{T}, N::Int) = Taylor{T}(x.coef, N)# Un taylor siempre será un taylor\n",
    "Taylor{T<:Number}(x::Taylor{T}) = x# El taylor de un taylor, es un taylor\n",
    "Taylor{T<:Number}(coef::Array{T,1}, N::Int) = Taylor{T}(coef, N)# La entrada más sencilla\n",
    "Taylor{T<:Number}(coef::Array{T,1}) = Taylor{T}(coef, length(coef)-1)# El taylor de un arreglo será un taylor\n",
    "Taylor{T<:Number}(x::T, N::Int) = Taylor{T}([x], N)# Una variable\n",
    "Taylor{T<:Number}(x::T) = Taylor{T}([x], 0)# Una constante"
   ]
  },
  {
   "cell_type": "markdown",
   "metadata": {},
   "source": [
    "Ahora bien, en este problema sólo necesitamos calcular la serie de Taylor para la función $x^{2}$, entonces desarrollaremos una función que calcule el cuadrado de una serie de Taylor. Lo anterior se presentan en la siguiente función:"
   ]
  },
  {
   "cell_type": "code",
   "execution_count": 14,
   "metadata": {
    "collapsed": false,
    "scrolled": true
   },
   "outputs": [
    {
     "data": {
      "text/plain": [
       "square (generic function with 1 method)"
      ]
     },
     "execution_count": 14,
     "metadata": {},
     "output_type": "execute_result"
    }
   ],
   "source": [
    "function square(x)# Función que calcula la serie de recurrencia para x^2\n",
    "    orden=x.N\n",
    "    x0=x.coef[1]\n",
    "    fx=Taylor(x0^2,orden)# Otro taylor que contendrá la serie de x^{2}, su primer entrada es la condición \n",
    "    # inicial al cuadrado\n",
    "    k=0\n",
    "    for k=1:orden# Hacemos la serie de recurrencia\n",
    "        sum=0.0\n",
    "        for i=1:k\n",
    "            valor=(1/x0)*((3*i/k)-1)*x.coef[i+1]*fx.coef[k-i+1]# Relación para obtener la serie\n",
    "            sum=sum+valor\n",
    "        end\n",
    "        fx.coef[k+1]=sum\n",
    "    end\n",
    "    fx# El resultado será x\n",
    "end"
   ]
  },
  {
   "cell_type": "markdown",
   "metadata": {},
   "source": [
    "Veamos si la función realiza lo que esperariamos, por ejemplo para el polinomio:\n",
    "\n",
    "$$x(t)=t^{2}-1,$$\n",
    "\n",
    "el resultado de elevarlo al cuadrado es:\n",
    "\n",
    "$$x^{2}(t)=t^{4}-2 t^{2}+1$$\n",
    "\n",
    "Veamos si la función anterior hace lo correcto y nos da los coeficientes de dicho polinomio, entonces:"
   ]
  },
  {
   "cell_type": "code",
   "execution_count": 15,
   "metadata": {
    "collapsed": false
   },
   "outputs": [
    {
     "data": {
      "text/plain": [
       "Taylor{Int32}([1,0,-2,0,1],4)"
      ]
     },
     "execution_count": 15,
     "metadata": {},
     "output_type": "execute_result"
    }
   ],
   "source": [
    "fx=square(Taylor([1,0,-1,0,0],4))"
   ]
  },
  {
   "cell_type": "code",
   "execution_count": 16,
   "metadata": {
    "collapsed": false
   },
   "outputs": [
    {
     "data": {
      "text/plain": [
       "Taylor{Int32}([1,0,-2,0,1],4)"
      ]
     },
     "execution_count": 16,
     "metadata": {},
     "output_type": "execute_result"
    }
   ],
   "source": [
    "fx"
   ]
  },
  {
   "cell_type": "markdown",
   "metadata": {},
   "source": [
    "Y justo, obtenemos lo antes dicho, es decir la función hace las cosas correctamentes. Como se vió en clase se pueden programar las diferentes operaciones sobre polinomios como la suma, resta, división, producto, distintas potencias y funciones; sin embargo, para fines de este trabajo con lo anterior tenemos lo necesario."
   ]
  },
  {
   "cell_type": "markdown",
   "metadata": {},
   "source": [
    "Continuando, en nuestro problema deseamos calcular el polinomio:\n",
    "\n",
    "$$x(t)=x_{0}+x_{1}t+x_{2}t^{2}+..........+x_{n}t^{n}$$\n",
    "\n",
    "Sin embargo, de la condición inicial que nos da el enunciado del ejercicio, tan solo conocemos $x_{0}$, la cual estará dada por $x_{0}=x(0)=1$; por tanto, es necesario calcular los coeficientes restantes del polinomio para conocer la serie de Taylor de la función cerca de cero.\n",
    "\n",
    "Para lograr lo anterior debemos recurrir a la ecuación diferencial $\\dot{x}=f(x,t)=x^{2}$ (es decir, usaremos la función `square`) y usar la relación de coeficientes:\n",
    "\n",
    "$$x_{n+1}=\\frac{(f\\circ x)_{n}}{n+1}$$\n",
    "\n",
    "Implementaremos todo ésto en la siguiente función:"
   ]
  },
  {
   "cell_type": "code",
   "execution_count": 17,
   "metadata": {
    "collapsed": false
   },
   "outputs": [
    {
     "data": {
      "text/plain": [
       "cal_coef (generic function with 1 method)"
      ]
     },
     "execution_count": 17,
     "metadata": {},
     "output_type": "execute_result"
    }
   ],
   "source": [
    "function cal_coef(α,N)# Esta función pedirá la condición inicial del problema es decir x(0)=α\n",
    "    # N será el orden del polinomio x(t)\n",
    "    x=Taylor(α,N)# El polinomio x(t)\n",
    "    x2=square(x)# El polinomio x^2(t)\n",
    "    for i=1:N# Iteramos\n",
    "        x.coef[i+1]=x2.coef[i]/i# Aquié estamos usando la relación de coeficientes\n",
    "        x2=square(x)# calculamos x^2\n",
    "    end\n",
    "    x# El resultado será x\n",
    "end"
   ]
  },
  {
   "cell_type": "markdown",
   "metadata": {},
   "source": [
    "Ahora necesitamos evaluar la serie de Taylor, obtenida con la función anterior, para un valor de $t$, para ello creamos la función `evalua`:"
   ]
  },
  {
   "cell_type": "code",
   "execution_count": 18,
   "metadata": {
    "collapsed": false,
    "scrolled": true
   },
   "outputs": [
    {
     "data": {
      "text/plain": [
       "evalua (generic function with 1 method)"
      ]
     },
     "execution_count": 18,
     "metadata": {},
     "output_type": "execute_result"
    }
   ],
   "source": [
    "function evalua(x,t)# Función evalua, pide la serie de Taylor y el punto donde quieras evaluar\n",
    "    long_tay=length(x.coef)\n",
    "    sum=x.coef[long_tay]\n",
    "    for j=1:(long_tay-1)\n",
    "        sum=sum*t+x.coef[long_tay-j]# Evaluamos x(t) usando el método de Horner\n",
    "    end\n",
    "    sum# Se devuelve el resultado\n",
    "end        "
   ]
  },
  {
   "cell_type": "markdown",
   "metadata": {},
   "source": [
    "Lo siguiente será usar lo escrito previamente para resolver la ecuación diferencial ordinaria. La función siguiente además de resolver la ecuación obtendrá el paso de salto para el siguiente punto, dado por la fórmula:\n",
    "\n",
    "$$dt=\\left(\\frac{1}{2} \\right)\\left(\\frac{\\epsilon}{|x_{n}|} \\right)^{1/n}$$\n",
    "\n",
    "Donde $\\epsilon$ es el error que el usuario introducirá, $x_{n}$ es el n-ésimo coeficiente, $n$ estará determinada por el usuario y $dt$ será el tamaño de paso al siguiente punto, es decir $t+dt$."
   ]
  },
  {
   "cell_type": "code",
   "execution_count": 43,
   "metadata": {
    "collapsed": false,
    "scrolled": false
   },
   "outputs": [
    {
     "data": {
      "text/plain": [
       "res (generic function with 2 methods)"
      ]
     },
     "execution_count": 43,
     "metadata": {},
     "output_type": "execute_result"
    }
   ],
   "source": [
    "function res(α,a,b,eps,N,N_int)# La función que resolverá la ecuación diferencial, pedirá la condición inicial\n",
    "    # x(0)=α, el intervalo de t, es decir [a,b], el epsilón en el cual desarrollará los pasos y el orden del \n",
    "    # polinomio que el usuario quiera darle a su polinomio\n",
    "    # toda la vida iterando\n",
    "    t=a# t inicia en a, por supuesto\n",
    "    x0=α# x0 contendrá la condición inicial para obtener la serie de Taylor, es decir x(t)=x0=α\n",
    "    dt=0.0# Iniciamos el salto de paso\n",
    "    i=1# i en uno\n",
    "    X_tay=zeros(Float64,N_int)# Los arreglos donde guardaremos los valores la solución\n",
    "    Int_tay=zeros(Float64,N_int)# y donde guardaremos los valores de t\n",
    "    while t<b && i<=N_int# Aquí se tienen las dos condiciones, sobre t o sobre i\n",
    "        X_tay[i]=x0\n",
    "        Int_tay[i]=t\n",
    "        Tx=cal_coef(x0,N)# Usamos todo lo que tenemos\n",
    "        dt=(0.5)*((eps/abs(Tx.coef[N-1]))^(1/N))# El tamaño de paso se encuentra aquí\n",
    "        x0=evalua(Tx,dt)# Nueva condición inicial\n",
    "        t=t+dt# Incrementamos t\n",
    "        i+=1# Sumamos 1 a i\n",
    "    end\n",
    "    (Int_tay,X_tay)# Resultados\n",
    "end"
   ]
  },
  {
   "cell_type": "markdown",
   "metadata": {},
   "source": [
    "Con todo lo desarrollado ya tenemos lo necesario para obtener la solución de la ecuación diferencial ordinaria, manos a la obra:"
   ]
  },
  {
   "cell_type": "code",
   "execution_count": 44,
   "metadata": {
    "collapsed": false
   },
   "outputs": [],
   "source": [
    "(Int_tay,X_tay)=res(1.0,0,1.0,10.0^-20,20,100)# Calculamos la solución en el mismo intervalo que hicimos para el RK4,\n",
    "# es decir de 0 a 1, y el orden que tendrá la serie de taylor lo dejaremos en 20. Además, la eps será de 10.0^-20;"
   ]
  },
  {
   "cell_type": "markdown",
   "metadata": {},
   "source": [
    "Para tener punto de comparación debemos calcular los valores de la solución real, ésto es:"
   ]
  },
  {
   "cell_type": "code",
   "execution_count": 45,
   "metadata": {
    "collapsed": true
   },
   "outputs": [],
   "source": [
    "X_real2=[x_real(t) for t in Int_tay];"
   ]
  },
  {
   "cell_type": "markdown",
   "metadata": {},
   "source": [
    "Graficamos con los resultados de la función real:"
   ]
  },
  {
   "cell_type": "code",
   "execution_count": 46,
   "metadata": {
    "collapsed": false,
    "scrolled": false
   },
   "outputs": [
    {
     "data": {
      "image/png": "[encoded data removed]",
      "text/plain": [
       "PyPlot.Figure(PyObject <matplotlib.figure.Figure object at 0x88a920cc>)"
      ]
     },
     "metadata": {},
     "output_type": "display_data"
    }
   ],
   "source": [
    "plot(Int_tay, X_tay, label=\"Taylor\")\n",
    "plot(Int_tay,X_real2, label=\"Solución analítica\")\n",
    "legend(loc=2)\n",
    "xlabel(L\"t\")\n",
    "ylabel(\"Funciones\")\n",
    "show()"
   ]
  },
  {
   "cell_type": "markdown",
   "metadata": {},
   "source": [
    "A simple vista luce muy bien, obtengamos el error:"
   ]
  },
  {
   "cell_type": "code",
   "execution_count": 47,
   "metadata": {
    "collapsed": true
   },
   "outputs": [],
   "source": [
    "eps2=X_real2-X_tay;"
   ]
  },
  {
   "cell_type": "markdown",
   "metadata": {},
   "source": [
    "Veamos que sucedió con la diferencia mediante una gráfica:"
   ]
  },
  {
   "cell_type": "code",
   "execution_count": 48,
   "metadata": {
    "collapsed": false
   },
   "outputs": [
    {
     "data": {
      "image/png": "[encoded data removed]",
      "text/plain": [
       "PyPlot.Figure(PyObject <matplotlib.figure.Figure object at 0x88b8d52c>)"
      ]
     },
     "metadata": {},
     "output_type": "display_data"
    },
    {
     "data": {
      "text/plain": [
       "PyObject <matplotlib.text.Text object at 0x88df8b4c>"
      ]
     },
     "execution_count": 48,
     "metadata": {},
     "output_type": "execute_result"
    }
   ],
   "source": [
    "plot(Int_tay,eps2)\n",
    "xlabel(L\"t\")\n",
    "ylabel(\"Error\")"
   ]
  },
  {
   "cell_type": "markdown",
   "metadata": {},
   "source": [
    "Simplemente impresionante!!! El error del método de integración de Taylor es menor por 12 órdenes de magnitud con respecto al Runge-Kutta de orden 4.\n",
    "\n",
    "Okey, en este sentido el método de integración de Taylor fue mejor, pero que pasará al aumentar el intervalo hasta 1.25 como se hizo con el método de Runge-Kutta de orden 4, veamos:"
   ]
  },
  {
   "cell_type": "code",
   "execution_count": 55,
   "metadata": {
    "collapsed": true
   },
   "outputs": [],
   "source": [
    "(Int_tay1,X_tay1)=res(1.0,0,1.25,10.0^-20,20,1000)# Calculamos la solución en el mismo intervalo que hicimos para el RK4,\n",
    "# es decir de 0 a 1, y el orden que tendrá la serie de taylor lo dejaremos en 20. Además, la eps será de 10.0^-20;"
   ]
  },
  {
   "cell_type": "markdown",
   "metadata": {},
   "source": [
    "Ahora, realicemos la gráfica correspondiente:"
   ]
  },
  {
   "cell_type": "code",
   "execution_count": 56,
   "metadata": {
    "collapsed": false
   },
   "outputs": [
    {
     "data": {
      "image/png": "[encoded data removed]",
      "text/plain": [
       "PyPlot.Figure(PyObject <matplotlib.figure.Figure object at 0x87b7116c>)"
      ]
     },
     "metadata": {},
     "output_type": "display_data"
    }
   ],
   "source": [
    "plot(Int_tay1, X_tay1, label=\"Taylor\")\n",
    "legend(loc=2)\n",
    "xlabel(L\"t\")\n",
    "ylabel(\"Taylor\")\n",
    "show()"
   ]
  },
  {
   "cell_type": "markdown",
   "metadata": {},
   "source": [
    "## Ejercicio 4: Recordatorio\n",
    "\n",
    "> Memoria minuitur nisi eam exerceas — La memoria disminuye si no la ejercitas (Marco Tulio Cicerón).\n",
    "\n",
    "Con tus palabras explica (sin utilizar muchas matemáticas) lo siguiente:\n",
    "\n",
    "* La esencia del método de integración de Taylor.\n",
    "\n",
    "    El método de integración de Taylor es un método eficaz para la integración numérica de problemas de valores iniciales para ecuaciones diferenciales ordinarias. La característica que lo distingue de todos los demás métodos numéricos para ecuaciones diferenciales ordinarias, es decir su escencia, es que sólo el método de Taylor puede calcular los incrementos de la solución con orden ilimitado de aproximación, de tal forma que el paso de integración no se aproxima a cero, lo cual da lugar a una alta precisión.\n",
    "    \n",
    "    Eso es posible porque el método realiza la diferenciación automática, lo cual significa un cálculo exacto de las derivadas a cualquier orden deseado, permitiendo obtener las series de Taylor de cualquier longitud.\n",
    "    \n",
    "    \n",
    "* ¿Qué relación tiene con los duales?\n",
    "\n",
    "    El método de integración de Taylor requiere de la diferenciación automática, la cual tiene como base los duales. Como se vió en clase, los duales nos permiten calcular derivadas de primer orden de forma automática y precisa; sin embargo para calcular derivadas de mayor orden se requiere de una diferenciación menos tediosa, para lo cual se recurre a series de Taylor.\n",
    "    \n",
    "    Por tanto, el método de integración de Taylor está relacionada con los duales debido a que dicho método se basa en una diferenciación automática, como la proporcionada por los duales.\n",
    "    \n",
    "\n",
    "* ¿Cómo elegimos el paso de avance en el método de Taylor?\n",
    "\n",
    "    \n",
    "\n",
    "* ¿Se pueden integrar sistemas de ecuaciones con este método? ¿Por qué?\n"
   ]
  }
 ],
 "metadata": {
  "kernelspec": {
   "display_name": "Julia 0.4.0",
   "language": "julia",
   "name": "julia-0.4"
  },
  "language_info": {
   "file_extension": ".jl",
   "mimetype": "application/julia",
   "name": "julia",
   "version": "0.4.0"
  }
 },
 "nbformat": 4,
 "nbformat_minor": 0
}
